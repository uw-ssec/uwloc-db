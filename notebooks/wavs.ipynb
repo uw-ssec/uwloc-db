{
 "cells": [
  {
   "attachments": {},
   "cell_type": "markdown",
   "metadata": {},
   "source": [
    "# WAVs in TileDB\n",
    "Prototype for storing waveform data in TileDB\n"
   ]
  },
  {
   "cell_type": "code",
   "execution_count": null,
   "metadata": {},
   "outputs": [],
   "source": [
    "import scipy.io.wavfile as wf\n",
    "import numpy as np\n",
    "import tiledb\n",
    "import os\n",
    "import pathlib\n",
    "from datetime import datetime\n",
    "\n",
    "in_file = \"../data/20230425_150920.WAV\"\n",
    "# Use the device ID as part of the file name, manually for now\n",
    "out_file = \"../data/20230425_150920_24F3190361DA539A.wav\"\n",
    "MB = 1024*1024"
   ]
  },
  {
   "attachments": {},
   "cell_type": "markdown",
   "metadata": {},
   "source": [
    "### Read WAV file\n",
    "This is an ~12 sec file at 192khz, 16 bit int PCM"
   ]
  },
  {
   "cell_type": "code",
   "execution_count": null,
   "metadata": {},
   "outputs": [],
   "source": [
    "rate, data = wf.read(in_file)\n",
    "secs = data.size//rate\n",
    "print(f\"rate: {rate}, data shape: {data.shape}, dtype: {data.dtype}, secs: {secs}\")\n",
    "data = data[0:secs*rate] #cut to 12 secs"
   ]
  },
  {
   "cell_type": "code",
   "execution_count": null,
   "metadata": {},
   "outputs": [],
   "source": [
    "# Repeat to create 1hr of data and save\n",
    "n = 3600//secs\n",
    "data_hr = np.tile(data, n)\n",
    "wf.write(out_file, rate, data_hr)\n",
    "print(f\"1 hr of data ~ {data_hr.size*2 // MB}\")"
   ]
  },
  {
   "attachments": {},
   "cell_type": "markdown",
   "metadata": {},
   "source": [
    "### Store in TileDB\n",
    "\n",
    "[TileDB](https://docs.tiledb.com/main/) is an in-process DB for storing array data. Data is stored in a \"tile\" format for fast array access.\n",
    "We can store data using one 2D array per deployment, where each unit is a row and the samples (time) are the columns. The tiling can then be configured according to common access patterns.\n"
   ]
  },
  {
   "cell_type": "code",
   "execution_count": null,
   "metadata": {},
   "outputs": [],
   "source": [
    "if tiledb.default_ctx() is None:\n",
    "    cfg = tiledb.Ctx().config()\n",
    "    cfg.update(\n",
    "    {\n",
    "        'py.init_buffer_bytes': 1024**2 * 50\n",
    "    }\n",
    "    )\n",
    "    tiledb.default_ctx(cfg)\n",
    "\n",
    "# Paths\n",
    "dbdir = os.path.expanduser(\"~/tile/\")\n",
    "pathlib.Path(dbdir).mkdir(exist_ok=True)\n",
    "arr_path = os.path.join(dbdir, \"deployment1\")\n",
    "\n",
    "# constants\n",
    "ATTRIB_SAMPLE = \"sample\"\n",
    "META_DEPL_DATE = \"Deployment_Date\"\n",
    "META_RATE = \"Sampling_Rate\"\n",
    "\n",
    "# Define the array size for one deployment. These are a best guess at this point\n",
    "# but can be made to match the actual data size once we have it.\n",
    "RATE = 192000\n",
    "MAX_DAYS = 7 #??\n",
    "MAX_TIME = RATE * MAX_DAYS * 24 * 3600\n",
    "EXTENT_HR = 3600 * RATE # make tiles 1 hr wide?\n",
    "MAX_UNITS = 32\n",
    "\n",
    "if not os.path.exists(arr_path):\n",
    "    # Create the two dimensions: unit -> rows, time -> columns\n",
    "    unit_dim = tiledb.Dim(name=\"unit\", domain=(0, MAX_UNITS), tile=1, dtype=np.int64)\n",
    "    time_dim = tiledb.Dim(name=\"time\", domain=(0, MAX_TIME), tile=EXTENT_HR, dtype=np.int64)\n",
    "    # Create a domain using the two dimensions\n",
    "    dom1 = tiledb.Domain(unit_dim, time_dim)\n",
    "    attrib_sample = tiledb.Attr(name=ATTRIB_SAMPLE, dtype=np.int16)\n",
    "    schema = tiledb.ArraySchema(domain=dom1, sparse=False, attrs=[attrib_sample])\n",
    "    tiledb.Array.create(arr_path, schema)\n",
    "\n",
    "def samples_hr(hrs: int) -> int:\n",
    "    return hrs*3600*RATE\n"
   ]
  },
  {
   "cell_type": "code",
   "execution_count": null,
   "metadata": {},
   "outputs": [],
   "source": [
    "schema = tiledb.ArraySchema.load(arr_path)\n",
    "schema"
   ]
  },
  {
   "cell_type": "code",
   "execution_count": null,
   "metadata": {},
   "outputs": [],
   "source": [
    "# Simulate 3 hrs of data for 2 units\n",
    "db_data = np.tile(data_hr, [2, 3])\n",
    "print(db_data.shape)\n"
   ]
  },
  {
   "cell_type": "code",
   "execution_count": null,
   "metadata": {},
   "outputs": [],
   "source": [
    "%%time\n",
    "# Store in the DB\n",
    "with tiledb.open(arr_path, 'w') as A:\n",
    "    # Data\n",
    "    A[0:2,0:samples_hr(3)] = db_data\n",
    "    # Metadata\n",
    "    A.meta[META_DEPL_DATE] = str(datetime.now())\n",
    "    A.meta[META_RATE] = RATE\n",
    "    "
   ]
  },
  {
   "cell_type": "code",
   "execution_count": null,
   "metadata": {},
   "outputs": [],
   "source": [
    "%%time\n",
    "A = tiledb.open(arr_path, 'r')\n",
    "print(f\"Deployment date: {A.meta[META_DEPL_DATE]}, sampling rate: {A.meta[META_RATE]}\")\n",
    "start = samples_hr(2)\n",
    "MIN_5 = RATE*60*5\n",
    "# Read 5 mins of data for two units\n",
    "d = A[0:2,start:start+MIN_5][ATTRIB_SAMPLE]\n",
    "print(f\"Read shape: {d.shape}, size: {d.size*2//MB} MB\")"
   ]
  },
  {
   "cell_type": "code",
   "execution_count": null,
   "metadata": {},
   "outputs": [],
   "source": [
    "%%time\n",
    "# read next 5 mins\n",
    "d = A[0:2, start+MIN_5:start+2*MIN_5][ATTRIB_SAMPLE]"
   ]
  },
  {
   "cell_type": "code",
   "execution_count": null,
   "metadata": {},
   "outputs": [],
   "source": [
    "A.close()"
   ]
  },
  {
   "attachments": {},
   "cell_type": "markdown",
   "metadata": {},
   "source": [
    "## TODO\n",
    "- Figure out the best way to store:\n",
    "    - The mapping of device IDs to the row indices\n",
    "    - The clock drifts, which will be sparse.\n",
    "- Investigate if the schema can be more efficient through different cell and tile orders and tile sizes"
   ]
  },
  {
   "cell_type": "markdown",
   "metadata": {},
   "source": []
  }
 ],
 "metadata": {
  "kernelspec": {
   "display_name": ".env",
   "language": "python",
   "name": "python3"
  },
  "language_info": {
   "codemirror_mode": {
    "name": "ipython",
    "version": 3
   },
   "file_extension": ".py",
   "mimetype": "text/x-python",
   "name": "python",
   "nbconvert_exporter": "python",
   "pygments_lexer": "ipython3",
   "version": "3.11.2"
  }
 },
 "nbformat": 4,
 "nbformat_minor": 2
}
